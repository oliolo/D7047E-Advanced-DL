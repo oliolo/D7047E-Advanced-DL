{
 "cells": [
  {
   "cell_type": "code",
   "execution_count": 90,
   "metadata": {},
   "outputs": [],
   "source": [
    "import torch\n",
    "import torch.nn as nn\n",
    "import torch.nn.functional as F\n",
    "import torch.optim as optim\n",
    "import torchvision\n",
    "from torchvision import datasets, transforms\n",
    "from torchvision.transforms import ToTensor\n",
    "from torch.utils.data import DataLoader, random_split\n",
    "import numpy as np\n",
    "import matplotlib.pyplot as plt"
   ]
  },
  {
   "cell_type": "code",
   "execution_count": 57,
   "metadata": {},
   "outputs": [
    {
     "name": "stdout",
     "output_type": "stream",
     "text": [
      "NO GPU AVAILABLE ERROR\n"
     ]
    }
   ],
   "source": [
    "if torch.cuda.is_available():    \n",
    "    device = torch.device(\"cuda\")\n",
    "    print('There are %d GPU(s) available.' % torch.cuda.device_count())\n",
    "    print('We will use the GPU:', torch.cuda.get_device_name(0))\n",
    "else:\n",
    "    print('NO GPU AVAILABLE ERROR')\n",
    "    device = torch.device(\"cpu\")"
   ]
  },
  {
   "cell_type": "code",
   "execution_count": 58,
   "metadata": {},
   "outputs": [],
   "source": [
    "class Model(nn.Module):\n",
    "    def __init__(self):\n",
    "        super().__init__()\n",
    "        \n",
    "        self.conv1 = nn.Conv2d(1, 16, 5, 1, 2)\n",
    "        self.pool = nn.MaxPool2d(2, 2)\n",
    "        self.conv2 = nn.Conv2d(16, 32, 5, 1, 2)\n",
    "        self.fc1 = nn.Linear(32 * 7 * 7, 10)\n",
    "        self.relu = nn.ReLU()\n",
    "        \n",
    "    def forward(self, x):\n",
    "        x = self.pool(self.relu(self.conv1(x))) # 28x28 > 14x14\n",
    "        x = self.pool(self.relu(self.conv2(x))) # 14x14 > 7x7\n",
    "        x = torch.flatten(x, 1)\n",
    "        x = self.fc1(x)\n",
    "        return x"
   ]
  },
  {
   "cell_type": "code",
   "execution_count": 59,
   "metadata": {},
   "outputs": [],
   "source": [
    "# Create an instance of the model\n",
    "model_mnist = Model()\n",
    "model_mnist.to(device)\n",
    "\n",
    "train_dataset_mnist = torchvision.datasets.MNIST(root='./data', train=True, download=True, transform=ToTensor())\n",
    "train_dataset_mnist, val_dataset_mnist = random_split(train_dataset_mnist, [55000, 5000])\n",
    "test_dataset_mnist = torchvision.datasets.MNIST(root='./data', train=False, download=True, transform=ToTensor())\n",
    "\n",
    "batch_size = 1000\n",
    "epochs = 10\n",
    "\n",
    "train_loader_mnist = DataLoader(train_dataset_mnist,\n",
    "                        batch_size=batch_size,\n",
    "                        shuffle=True)\n",
    "val_loader_mnist = DataLoader(val_dataset_mnist,\n",
    "                        batch_size=batch_size,\n",
    "                        shuffle=True)\n",
    "\n",
    "test_loader_mnist = DataLoader(test_dataset_mnist,\n",
    "                        batch_size=1,\n",
    "                        shuffle=False)\n",
    "\n",
    "loss_fn = torch.nn.CrossEntropyLoss()\n",
    "optimizer = torch.optim.Adam(model_mnist.parameters(), lr=0.001)"
   ]
  },
  {
   "cell_type": "code",
   "execution_count": 60,
   "metadata": {},
   "outputs": [],
   "source": [
    "def train(epochs, optimizer, loss_fn, train_loader, val_loader, model):\n",
    "    for epoch in range(epochs):\n",
    "        model.train()\n",
    "        for i, (data, labels) in enumerate(train_loader):\n",
    "            data = data.to(device)\n",
    "            labels = labels.to(device)\n",
    "\n",
    "            pred = model(data)\n",
    "            loss = loss_fn(pred, labels)\n",
    "            loss.backward()\n",
    "            optimizer.step()\n",
    "            optimizer.zero_grad()\n",
    "            print(\n",
    "                f'\\rEpoch {epoch+1} [{i+1}/{len(train_loader)}] - Loss: {loss}',\n",
    "                end='\\r'\n",
    "            )\n",
    "\n",
    "        print('\\n*************************************')\n",
    "        print('Validation the model after epoch:', epoch)\n",
    "        accuracy(model, val_loader)\n",
    "\n",
    "def accuracy(model, data_loader):\n",
    "    correct, total = 0, 0\n",
    "    with torch.no_grad():\n",
    "        model.eval()\n",
    "        for _, (data, labels) in enumerate(data_loader):\n",
    "            data = data.to(device)\n",
    "            labels = labels.to(device)\n",
    "            \n",
    "            pred = model(data)\n",
    "            for i in range(len(labels)):\n",
    "                pr = torch.argmax(pred[i], dim=-1)\n",
    "                if pr == labels[i]:\n",
    "                    correct += 1\n",
    "                total += 1\n",
    "        print(correct, total, correct/total)\n"
   ]
  },
  {
   "cell_type": "code",
   "execution_count": 61,
   "metadata": {},
   "outputs": [],
   "source": [
    "# FGSM attack code\n",
    "def fgsm_attack(image, epsilon, data_grad):\n",
    "    # Collect the element-wise sign of the data gradient\n",
    "    sign_data_grad = data_grad.sign()\n",
    "    # Create the perturbed image by adjusting each pixel of the input image\n",
    "    perturbed_image = image - epsilon*sign_data_grad\n",
    "    # Adding clipping to maintain [0,1] range\n",
    "    perturbed_image = torch.clamp(perturbed_image, 0, 1)\n",
    "    # Return the perturbed image\n",
    "    return perturbed_image"
   ]
  },
  {
   "cell_type": "code",
   "execution_count": 121,
   "metadata": {},
   "outputs": [],
   "source": [
    "def part1( model, test_loader, epsilon ):\n",
    "    # Accuracy counter\n",
    "    correct = 0\n",
    "    total = 0\n",
    "    adv_examples = []\n",
    "\n",
    "    # Loop over all examples in test set\n",
    "    for data, target in test_loader:\n",
    "        \n",
    "        if target.item() == 4:\n",
    "            target = torch.tensor(9)\n",
    "            \n",
    "            # Send the data and label to the device\n",
    "            data, target = data.to(device), target.to(device)\n",
    "\n",
    "            # Set requires_grad attribute of tensor. Important for Attack\n",
    "            data.requires_grad = True\n",
    "\n",
    "            # Forward pass the data through the model\n",
    "            output = model(data)\n",
    "            init_pred = output.max(1, keepdim=True)[1] # get the index of the max log-probability\n",
    "\n",
    "            # If the initial prediction is wrong, dont bother attacking, just move on\n",
    "            if init_pred.item() != 4:\n",
    "                continue\n",
    "\n",
    "            # Calculate the loss\n",
    "            loss = F.nll_loss(output[0], target)\n",
    "\n",
    "            # Zero all existing gradients\n",
    "            model.zero_grad()\n",
    "\n",
    "            # Calculate gradients of model in backward pass\n",
    "            loss.backward()\n",
    "            \n",
    "            # Collect datagrad\n",
    "            data_grad = data.grad.data\n",
    "\n",
    "            # Call FGSM Attack\n",
    "            perturbed_data = fgsm_attack(data, epsilon, data_grad)\n",
    "\n",
    "            # Re-classify the perturbed image\n",
    "            output = model(perturbed_data)\n",
    "\n",
    "            # Check for success\n",
    "            final_pred = output.max(1, keepdim=True)[1] # get the index of the max log-probability\n",
    "            if final_pred.item() == target.item():\n",
    "                correct += 1\n",
    "                # Save some adv examples for visualization later\n",
    "                adv_ex = perturbed_data.squeeze().detach().cpu().numpy()\n",
    "                adv_examples.append( (init_pred.item(), final_pred.item(), adv_ex) )\n",
    "            total += 1\n",
    "\n",
    "    # Calculate final accuracy for this epsilon\n",
    "    final_acc = correct/total\n",
    "    print(\"Epsilon: {}\\tTest Accuracy = {} / {} = {}\".format(epsilon, correct, total, final_acc))\n",
    "\n",
    "    # Return the accuracy and an adversarial example\n",
    "    return final_acc, adv_examples"
   ]
  },
  {
   "cell_type": "code",
   "execution_count": 63,
   "metadata": {},
   "outputs": [
    {
     "name": "stdout",
     "output_type": "stream",
     "text": [
      "Training CNN on MNIST dataset\n",
      "Epoch 1 [55/55] - Loss: 0.34653681516647347\n",
      "*************************************\n",
      "Validation the model after epoch: 0\n",
      "4551 5000 0.9102\n",
      "Epoch 2 [55/55] - Loss: 0.15916913747787476\n",
      "*************************************\n",
      "Validation the model after epoch: 1\n",
      "4727 5000 0.9454\n",
      "Epoch 3 [55/55] - Loss: 0.12094675004482269\n",
      "*************************************\n",
      "Validation the model after epoch: 2\n",
      "4811 5000 0.9622\n",
      "Epoch 4 [55/55] - Loss: 0.09728870540857315\n",
      "*************************************\n",
      "Validation the model after epoch: 3\n",
      "4843 5000 0.9686\n",
      "Epoch 5 [55/55] - Loss: 0.085293516516685495\n",
      "*************************************\n",
      "Validation the model after epoch: 4\n",
      "4870 5000 0.974\n",
      "Epoch 6 [55/55] - Loss: 0.077315777540206915\n",
      "*************************************\n",
      "Validation the model after epoch: 5\n",
      "4878 5000 0.9756\n",
      "Epoch 7 [55/55] - Loss: 0.041073031723499386\n",
      "*************************************\n",
      "Validation the model after epoch: 6\n",
      "4885 5000 0.977\n",
      "Epoch 8 [55/55] - Loss: 0.083300642669200955\n",
      "*************************************\n",
      "Validation the model after epoch: 7\n",
      "4901 5000 0.9802\n",
      "Epoch 9 [55/55] - Loss: 0.028366273269057274\n",
      "*************************************\n",
      "Validation the model after epoch: 8\n",
      "4907 5000 0.9814\n",
      "Epoch 10 [55/55] - Loss: 0.041693232953548436\n",
      "*************************************\n",
      "Validation the model after epoch: 9\n",
      "4913 5000 0.9826\n"
     ]
    }
   ],
   "source": [
    "print('Training CNN on MNIST dataset')\n",
    "train(epochs, optimizer, loss_fn, train_loader_mnist, val_loader_mnist, model_mnist)"
   ]
  },
  {
   "cell_type": "code",
   "execution_count": 122,
   "metadata": {},
   "outputs": [
    {
     "name": "stdout",
     "output_type": "stream",
     "text": [
      "Epsilon: 0.05\tTest Accuracy = 33 / 967 = 0.03412616339193381\n",
      "Epsilon: 0.1\tTest Accuracy = 134 / 967 = 0.13857290589451912\n",
      "Epsilon: 0.15\tTest Accuracy = 384 / 967 = 0.39710444674250256\n",
      "Epsilon: 0.2\tTest Accuracy = 699 / 967 = 0.7228541882109617\n",
      "Epsilon: 0.25\tTest Accuracy = 910 / 967 = 0.9410548086866598\n",
      "Epsilon: 0.3\tTest Accuracy = 955 / 967 = 0.9875904860392968\n",
      "Epsilon: 0.35\tTest Accuracy = 961 / 967 = 0.9937952430196484\n",
      "Epsilon: 0.4\tTest Accuracy = 938 / 967 = 0.9700103412616339\n",
      "Epsilon: 0.45\tTest Accuracy = 882 / 967 = 0.9120992761116856\n",
      "Epsilon: 0.5\tTest Accuracy = 766 / 967 = 0.7921406411582212\n",
      "Epsilon: 0.55\tTest Accuracy = 610 / 967 = 0.6308169596690796\n",
      "Epsilon: 0.6\tTest Accuracy = 464 / 967 = 0.47983453981385726\n",
      "Epsilon: 0.65\tTest Accuracy = 340 / 967 = 0.3516028955532575\n",
      "Epsilon: 0.7\tTest Accuracy = 236 / 967 = 0.24405377456049637\n",
      "Epsilon: 0.75\tTest Accuracy = 166 / 967 = 0.17166494312306102\n",
      "Epsilon: 0.8\tTest Accuracy = 128 / 967 = 0.13236814891416754\n",
      "Epsilon: 0.85\tTest Accuracy = 89 / 967 = 0.09203722854188211\n",
      "Epsilon: 0.9\tTest Accuracy = 60 / 967 = 0.06204756980351603\n",
      "Epsilon: 0.95\tTest Accuracy = 42 / 967 = 0.04343329886246122\n",
      "Epsilon: 1\tTest Accuracy = 30 / 967 = 0.031023784901758014\n"
     ]
    }
   ],
   "source": [
    "accuracies = []\n",
    "examples = []\n",
    "epsilons = [.05, .1, .15, .2, .25, .3, .35, .4, .45, .5, .55, .6, .65, .7, .75, .8, .85, .9, .95, 1]\n",
    "\n",
    "\n",
    "# Run test for each epsilon\n",
    "for eps in epsilons:\n",
    "    acc, ex = part1(model_mnist, test_loader_mnist, eps)\n",
    "    accuracies.append(acc)\n",
    "    examples.append(ex)"
   ]
  },
  {
   "cell_type": "code",
   "execution_count": 123,
   "metadata": {},
   "outputs": [
    {
     "data": {
      "image/png": "[encoded data removed]",
      "text/plain": [
       "<Figure size 720x720 with 1 Axes>"
      ]
     },
     "metadata": {
      "needs_background": "light"
     },
     "output_type": "display_data"
    }
   ],
   "source": [
    "plt.figure(figsize=(10,10))\n",
    "plt.plot(epsilons, accuracies, \"*-\")\n",
    "plt.yticks(np.arange(0, 1.1, step=0.1))\n",
    "plt.xticks(np.arange(0, .35, step=0.05))\n",
    "plt.title(\"Accuracy vs Epsilon\")\n",
    "plt.xlabel(\"Epsilon\")\n",
    "plt.ylabel(\"Accuracy\")\n",
    "plt.show()"
   ]
  },
  {
   "cell_type": "code",
   "execution_count": 108,
   "metadata": {},
   "outputs": [
    {
     "data": {
      "image/png": "[encoded data removed]",
      "text/plain": [
       "<Figure size 576x720 with 1 Axes>"
      ]
     },
     "metadata": {
      "needs_background": "light"
     },
     "output_type": "display_data"
    }
   ],
   "source": [
    "plt.figure(figsize=(8,10))\n",
    "orig,adv,ex = examples[5][43]\n",
    "plt.imshow(ex, cmap=\"gray\")\n",
    "plt.show()"
   ]
  },
  {
   "cell_type": "markdown",
   "metadata": {},
   "source": [
    "Part 2\n",
    "---------\n"
   ]
  },
  {
   "cell_type": "code",
   "execution_count": 124,
   "metadata": {},
   "outputs": [],
   "source": [
    "def part2( model, epsilon ):\n",
    "    # Accuracy counter\n",
    "    correct = 0\n",
    "    total = 0\n",
    "    adv_examples = []\n",
    "\n",
    "    # Loop over all examples in test set\n",
    "    for i in range(1000):\n",
    "        \n",
    "        data = torch.rand(1,1,28,28)\n",
    "        \n",
    "        target = torch.tensor(9)\n",
    "\n",
    "        # Send the data and label to the device\n",
    "        data, target = data.to(device), target.to(device)\n",
    "\n",
    "        # Set requires_grad attribute of tensor. Important for Attack\n",
    "        data.requires_grad = True\n",
    "\n",
    "        # Forward pass the data through the model\n",
    "        output = model(data)\n",
    "        init_pred = output.max(1, keepdim=True)[1] # get the index of the max log-probability\n",
    "\n",
    "        # Calculate the loss\n",
    "        loss = F.nll_loss(output[0], target)\n",
    "\n",
    "        # Zero all existing gradients\n",
    "        model.zero_grad()\n",
    "\n",
    "        # Calculate gradients of model in backward pass\n",
    "        loss.backward()\n",
    "\n",
    "        # Collect datagrad\n",
    "        data_grad = data.grad.data\n",
    "\n",
    "        # Call FGSM Attack\n",
    "        perturbed_data = fgsm_attack(data, epsilon, data_grad)\n",
    "\n",
    "        # Re-classify the perturbed image\n",
    "        output = model(perturbed_data)\n",
    "\n",
    "        # Check for success\n",
    "        final_pred = output.max(1, keepdim=True)[1] # get the index of the max log-probability\n",
    "        if final_pred.item() == target.item():\n",
    "            correct += 1\n",
    "            # Save some adv examples for visualization later\n",
    "            adv_ex = perturbed_data.squeeze().detach().cpu().numpy()\n",
    "            adv_examples.append( (init_pred.item(), final_pred.item(), adv_ex) )\n",
    "        total += 1\n",
    "\n",
    "    # Calculate final accuracy for this epsilon\n",
    "    final_acc = correct/total\n",
    "    print(\"Epsilon: {}\\tTest Accuracy = {} / {} = {}\".format(epsilon, correct, total, final_acc))\n",
    "\n",
    "    # Return the accuracy and an adversarial example\n",
    "    return final_acc, adv_examples"
   ]
  },
  {
   "cell_type": "code",
   "execution_count": 125,
   "metadata": {},
   "outputs": [
    {
     "name": "stdout",
     "output_type": "stream",
     "text": [
      "Epsilon: 0.05\tTest Accuracy = 0 / 1000 = 0.0\n",
      "Epsilon: 0.1\tTest Accuracy = 10 / 1000 = 0.01\n",
      "Epsilon: 0.15\tTest Accuracy = 172 / 1000 = 0.172\n",
      "Epsilon: 0.2\tTest Accuracy = 369 / 1000 = 0.369\n",
      "Epsilon: 0.25\tTest Accuracy = 427 / 1000 = 0.427\n",
      "Epsilon: 0.3\tTest Accuracy = 376 / 1000 = 0.376\n",
      "Epsilon: 0.35\tTest Accuracy = 346 / 1000 = 0.346\n",
      "Epsilon: 0.4\tTest Accuracy = 307 / 1000 = 0.307\n",
      "Epsilon: 0.45\tTest Accuracy = 256 / 1000 = 0.256\n",
      "Epsilon: 0.5\tTest Accuracy = 229 / 1000 = 0.229\n",
      "Epsilon: 0.55\tTest Accuracy = 182 / 1000 = 0.182\n",
      "Epsilon: 0.6\tTest Accuracy = 164 / 1000 = 0.164\n",
      "Epsilon: 0.65\tTest Accuracy = 132 / 1000 = 0.132\n",
      "Epsilon: 0.7\tTest Accuracy = 105 / 1000 = 0.105\n",
      "Epsilon: 0.75\tTest Accuracy = 101 / 1000 = 0.101\n",
      "Epsilon: 0.8\tTest Accuracy = 75 / 1000 = 0.075\n",
      "Epsilon: 0.85\tTest Accuracy = 70 / 1000 = 0.07\n",
      "Epsilon: 0.9\tTest Accuracy = 63 / 1000 = 0.063\n",
      "Epsilon: 0.95\tTest Accuracy = 56 / 1000 = 0.056\n",
      "Epsilon: 1\tTest Accuracy = 70 / 1000 = 0.07\n"
     ]
    }
   ],
   "source": [
    "accuracies = []\n",
    "examples = []\n",
    "epsilons = [.05, .1, .15, .2, .25, .3, .35, .4, .45, .5, .55, .6, .65, .7, .75, .8, .85, .9, .95, 1]\n",
    "\n",
    "\n",
    "# Run test for each epsilon\n",
    "for eps in epsilons:\n",
    "    acc, ex = part2(model_mnist, eps)\n",
    "    accuracies.append(acc)\n",
    "    examples.append(ex)"
   ]
  },
  {
   "cell_type": "code",
   "execution_count": 126,
   "metadata": {},
   "outputs": [
    {
     "data": {
      "image/png": "[encoded data removed]",
      "text/plain": [
       "<Figure size 720x720 with 1 Axes>"
      ]
     },
     "metadata": {
      "needs_background": "light"
     },
     "output_type": "display_data"
    }
   ],
   "source": [
    "plt.figure(figsize=(10,10))\n",
    "plt.plot(epsilons, accuracies, \"*-\")\n",
    "plt.yticks(np.arange(0, 1.1, step=0.1))\n",
    "plt.xticks(np.arange(0, .35, step=0.05))\n",
    "plt.title(\"Accuracy vs Epsilon\")\n",
    "plt.xlabel(\"Epsilon\")\n",
    "plt.ylabel(\"Accuracy\")\n",
    "plt.show()"
   ]
  },
  {
   "cell_type": "code",
   "execution_count": 111,
   "metadata": {},
   "outputs": [
    {
     "data": {
      "image/png": "[encoded data removed]",
      "text/plain": [
       "<Figure size 576x720 with 1 Axes>"
      ]
     },
     "metadata": {
      "needs_background": "light"
     },
     "output_type": "display_data"
    }
   ],
   "source": [
    "plt.figure(figsize=(8,10))\n",
    "orig,adv,ex = examples[5][43]\n",
    "plt.imshow(ex, cmap=\"gray\")\n",
    "plt.show()"
   ]
  },
  {
   "cell_type": "code",
   "execution_count": 102,
   "metadata": {},
   "outputs": [],
   "source": [
    "def part3( model, epsilon ):\n",
    "    # Accuracy counter\n",
    "    correct = 0\n",
    "    total = 0\n",
    "    adv_examples = []\n",
    "\n",
    "    # Loop over all examples in test set\n",
    "    for i in range(20000):\n",
    "    \n",
    "        data = torch.zeros(1,1,28,28)\n",
    "        target = torch.tensor(9)\n",
    "        \n",
    "        # Send the data and label to the device\n",
    "        data, target = data.to(device), target.to(device)\n",
    "\n",
    "        # Set requires_grad attribute of tensor. Important for Attack\n",
    "        data.requires_grad = True\n",
    "\n",
    "        # Forward pass the data through the model\n",
    "        output = model(data)\n",
    "        init_pred = output.max(1, keepdim=True)[1] # get the index of the max log-probability\n",
    "\n",
    "        # Calculate the loss\n",
    "        loss = F.nll_loss(output[0], target)\n",
    "\n",
    "        # Zero all existing gradients\n",
    "        model.zero_grad()\n",
    "\n",
    "        # Calculate gradients of model in backward pass\n",
    "        loss.backward()\n",
    "        \n",
    "        # Collect datagrad\n",
    "        data_grad = data.grad.data\n",
    "\n",
    "        # Call FGSM Attack\n",
    "        perturbed_data = fgsm_attack(data, epsilon, data_grad)\n",
    "\n",
    "        # Re-classify the perturbed image\n",
    "        output = model(perturbed_data)\n",
    "\n",
    "        # Check for success\n",
    "        final_pred = output.max(1, keepdim=True)[1] # get the index of the max log-probability\n",
    "        if final_pred.item() == target.item():\n",
    "            correct += 1\n",
    "            # Save some adv examples for visualization later\n",
    "            adv_ex = perturbed_data.squeeze().detach().cpu().numpy()\n",
    "            adv_examples.append( (init_pred.item(), final_pred.item(), adv_ex) )\n",
    "        else:\n",
    "        # Save some adv examples for visualization later\n",
    "            if len(adv_examples) < 5:\n",
    "                adv_ex = perturbed_data.squeeze().detach().cpu().numpy()\n",
    "                adv_examples.append( (init_pred.item(), final_pred.item(), adv_ex) )\n",
    "        total += 1\n",
    "\n",
    "    # Calculate final accuracy for this epsilon\n",
    "    final_acc = correct/total\n",
    "    print(\"Epsilon: {}\\tTest Accuracy = {} / {} = {}\".format(epsilon, correct, total, final_acc))\n",
    "\n",
    "    # Return the accuracy and an adversarial example\n",
    "    return final_acc, adv_examples"
   ]
  },
  {
   "cell_type": "code",
   "execution_count": 112,
   "metadata": {},
   "outputs": [
    {
     "name": "stdout",
     "output_type": "stream",
     "text": [
      "Epsilon: 0.05\tTest Accuracy = 0 / 20000 = 0.0\n",
      "Epsilon: 0.1\tTest Accuracy = 0 / 20000 = 0.0\n",
      "Epsilon: 0.15\tTest Accuracy = 0 / 20000 = 0.0\n",
      "Epsilon: 0.2\tTest Accuracy = 0 / 20000 = 0.0\n",
      "Epsilon: 0.25\tTest Accuracy = 0 / 20000 = 0.0\n",
      "Epsilon: 0.3\tTest Accuracy = 0 / 20000 = 0.0\n",
      "Epsilon: 0.35\tTest Accuracy = 0 / 20000 = 0.0\n",
      "Epsilon: 0.4\tTest Accuracy = 0 / 20000 = 0.0\n",
      "Epsilon: 0.45\tTest Accuracy = 0 / 20000 = 0.0\n",
      "Epsilon: 0.5\tTest Accuracy = 0 / 20000 = 0.0\n",
      "Epsilon: 0.55\tTest Accuracy = 0 / 20000 = 0.0\n",
      "Epsilon: 0.6\tTest Accuracy = 0 / 20000 = 0.0\n",
      "Epsilon: 0.65\tTest Accuracy = 0 / 20000 = 0.0\n",
      "Epsilon: 0.7\tTest Accuracy = 0 / 20000 = 0.0\n",
      "Epsilon: 0.75\tTest Accuracy = 0 / 20000 = 0.0\n",
      "Epsilon: 0.8\tTest Accuracy = 0 / 20000 = 0.0\n",
      "Epsilon: 0.85\tTest Accuracy = 0 / 20000 = 0.0\n",
      "Epsilon: 0.9\tTest Accuracy = 0 / 20000 = 0.0\n",
      "Epsilon: 0.95\tTest Accuracy = 0 / 20000 = 0.0\n",
      "Epsilon: 1\tTest Accuracy = 0 / 20000 = 0.0\n"
     ]
    }
   ],
   "source": [
    "accuracies = []\n",
    "examples = []\n",
    "epsilons = [.05, .1, .15, .2, .25, .3, .35, .4, .45, .5, .55, .6, .65, .7, .75, .8, .85, .9, .95, 1]\n",
    "\n",
    "\n",
    "# Run test for each epsilon\n",
    "for eps in epsilons:\n",
    "    acc, ex = part3(model_mnist, eps)\n",
    "    accuracies.append(acc)\n",
    "    examples.append(ex)"
   ]
  },
  {
   "cell_type": "code",
   "execution_count": 113,
   "metadata": {},
   "outputs": [
    {
     "data": {
      "image/png": "[encoded data removed]",
      "text/plain": [
       "<Figure size 720x720 with 1 Axes>"
      ]
     },
     "metadata": {
      "needs_background": "light"
     },
     "output_type": "display_data"
    }
   ],
   "source": [
    "plt.figure(figsize=(10,10))\n",
    "plt.plot(epsilons, accuracies, \"*-\")\n",
    "plt.yticks(np.arange(0, 1.1, step=0.1))\n",
    "plt.xticks(np.arange(0, .35, step=0.05))\n",
    "plt.title(\"Accuracy vs Epsilon\")\n",
    "plt.xlabel(\"Epsilon\")\n",
    "plt.ylabel(\"Accuracy\")\n",
    "plt.show()"
   ]
  }
 ],
 "metadata": {
  "interpreter": {
   "hash": "5cfa8e1fd62d7eb8beb134597a3e6a4ed7d63db87a242cb567554c600c91ca9b"
  },
  "kernelspec": {
   "display_name": "Python 3.8.12 ('anaconda_backup')",
   "language": "python",
   "name": "python3"
  },
  "language_info": {
   "codemirror_mode": {
    "name": "ipython",
    "version": 3
   },
   "file_extension": ".py",
   "mimetype": "text/x-python",
   "name": "python",
   "nbconvert_exporter": "python",
   "pygments_lexer": "ipython3",
   "version": "3.8.12"
  },
  "orig_nbformat": 4
 },
 "nbformat": 4,
 "nbformat_minor": 2
}
