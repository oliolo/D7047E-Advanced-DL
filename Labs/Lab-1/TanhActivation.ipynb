{
 "cells": [
  {
   "cell_type": "code",
   "execution_count": 1,
   "metadata": {},
   "outputs": [],
   "source": [
    "%load_ext tensorboard"
   ]
  },
  {
   "cell_type": "code",
   "execution_count": 2,
   "metadata": {},
   "outputs": [],
   "source": [
    "import numpy as np\n",
    "import tensorflow as tf\n",
    "import datetime\n",
    "\n",
    "from matplotlib import pyplot as plt\n",
    "from keras.utils import to_categorical\n",
    "from keras.models import Sequential\n",
    "from keras.layers import Conv2D\n",
    "from keras.layers import LeakyReLU\n",
    "from keras.layers import MaxPooling2D\n",
    "from keras.layers import Dense\n",
    "from keras.layers import Flatten\n",
    "from keras.optimizers import SGD\n",
    "from keras.datasets import cifar10\n",
    "\n",
    "from keras.layers import Dropout\n"
   ]
  },
  {
   "cell_type": "code",
   "execution_count": 3,
   "metadata": {},
   "outputs": [
    {
     "name": "stderr",
     "output_type": "stream",
     "text": [
      "UsageError: Line magic function `%rm` not found.\n"
     ]
    }
   ],
   "source": [
    "# Clear any logs from previous runs\n",
    "%rm -rf ./logs/"
   ]
  },
  {
   "cell_type": "code",
   "execution_count": 7,
   "metadata": {},
   "outputs": [],
   "source": [
    "def training():\n",
    "    trainX, trainY, testX, testY = load_dataset()\n",
    "    trainX, testX = preProcess(trainX, testX)\n",
    "    model = createModel()\n",
    "\n",
    "    log_dir = \"logs/fit/\" + datetime.datetime.now().strftime(\"%Y%m%d-%H%M%S\")\n",
    "    tensorboard_callback = tf.keras.callbacks.TensorBoard(log_dir=log_dir, histogram_freq=1)\n",
    "\n",
    "    model.fit(trainX, trainY, epochs=10, batch_size=64, validation_data=(testX, testY), callbacks=[tensorboard_callback])\n",
    "    _, acc = model.evaluate(testX, testY)\n",
    "    print('> %.3f' % (acc * 100.0))\n",
    "\n",
    "    "
   ]
  },
  {
   "cell_type": "code",
   "execution_count": 5,
   "metadata": {},
   "outputs": [],
   "source": [
    "def load_dataset():\n",
    "\t# load dataset\n",
    "\t(trainX, trainY), (testX, testY) = cifar10.load_data()\n",
    "\t# one hot encode target values\n",
    "\ttrainY = to_categorical(trainY)\n",
    "\ttestY = to_categorical(testY)\n",
    "\treturn trainX, trainY, testX, testY\n",
    "\n",
    "\n",
    "def preProcess(train, test): # convert the data into a meeningful floater-point tensor.\n",
    "\t# convert from integers to floats\n",
    "\ttrain_norm = train.astype('float32')\n",
    "\ttest_norm = test.astype('float32')\n",
    "\t# normalize to range 0-1\n",
    "\ttrain_norm = train_norm / 255.0\n",
    "\ttest_norm = test_norm / 255.0\n",
    "\t# return normalized images\n",
    "\treturn train_norm, test_norm\n",
    "\n",
    "def createModel():\n",
    "\tmodel = Sequential()\n",
    "\tmodel.add(Conv2D(32, (3, 3), activation=LeakyReLU(), input_shape=(32, 32, 3)))\n",
    "\tmodel.add(Conv2D(32, (3, 3), activation=LeakyReLU()))\n",
    "\tmodel.add(MaxPooling2D((2, 2)))\n",
    "\tmodel.add(Flatten())\n",
    "\tmodel.add(Dense(128, activation=LeakyReLU()))\n",
    "\tmodel.add(Dense(10, activation='softmax'))\n",
    "\t# compile model\n",
    "\topt = SGD(lr=0.0001)\n",
    "\tmodel.compile(optimizer=opt, loss='categorical_crossentropy', metrics=['accuracy'])\n",
    "\treturn model\n"
   ]
  },
  {
   "cell_type": "code",
   "execution_count": 8,
   "metadata": {},
   "outputs": [
    {
     "name": "stdout",
     "output_type": "stream",
     "text": [
      "Epoch 1/10\n",
      "  2/782 [..............................] - ETA: 10:35 - loss: 2.3203 - accuracy: 0.1250WARNING:tensorflow:Callbacks method `on_train_batch_end` is slow compared to the batch time (batch time: 0.0698s vs `on_train_batch_end` time: 1.5584s). Check your callbacks.\n",
      "782/782 [==============================] - 51s 65ms/step - loss: 2.3067 - accuracy: 0.0945 - val_loss: 2.3046 - val_accuracy: 0.0916\n",
      "Epoch 2/10\n",
      "782/782 [==============================] - 48s 62ms/step - loss: 2.3041 - accuracy: 0.0943 - val_loss: 2.3030 - val_accuracy: 0.0935\n",
      "Epoch 3/10\n",
      "782/782 [==============================] - 48s 61ms/step - loss: 2.3021 - accuracy: 0.0965 - val_loss: 2.3017 - val_accuracy: 0.0961\n",
      "Epoch 4/10\n",
      "782/782 [==============================] - 49s 62ms/step - loss: 2.3008 - accuracy: 0.0943 - val_loss: 2.3005 - val_accuracy: 0.0983\n",
      "Epoch 5/10\n",
      "782/782 [==============================] - 55s 70ms/step - loss: 2.2989 - accuracy: 0.0983 - val_loss: 2.2995 - val_accuracy: 0.0988\n",
      "Epoch 6/10\n",
      "782/782 [==============================] - 48s 61ms/step - loss: 2.2980 - accuracy: 0.1010 - val_loss: 2.2986 - val_accuracy: 0.1017\n",
      "Epoch 7/10\n",
      "782/782 [==============================] - 47s 60ms/step - loss: 2.2966 - accuracy: 0.1032 - val_loss: 2.2977 - val_accuracy: 0.1128\n",
      "Epoch 8/10\n",
      "782/782 [==============================] - 46s 59ms/step - loss: 2.2956 - accuracy: 0.1060 - val_loss: 2.2968 - val_accuracy: 0.1231\n",
      "Epoch 9/10\n",
      "782/782 [==============================] - 46s 59ms/step - loss: 2.2942 - accuracy: 0.1128 - val_loss: 2.2959 - val_accuracy: 0.1296\n",
      "Epoch 10/10\n",
      "782/782 [==============================] - 49s 63ms/step - loss: 2.2935 - accuracy: 0.1166 - val_loss: 2.2950 - val_accuracy: 0.1252\n",
      "313/313 [==============================] - 2s 6ms/step - loss: 2.2950 - accuracy: 0.1252\n",
      "> 12.520\n"
     ]
    }
   ],
   "source": [
    "training()"
   ]
  }
 ],
 "metadata": {
  "interpreter": {
   "hash": "5cfa8e1fd62d7eb8beb134597a3e6a4ed7d63db87a242cb567554c600c91ca9b"
  },
  "kernelspec": {
   "display_name": "Python 3.8.12 ('anaconda_backup')",
   "language": "python",
   "name": "python3"
  },
  "language_info": {
   "codemirror_mode": {
    "name": "ipython",
    "version": 3
   },
   "file_extension": ".py",
   "mimetype": "text/x-python",
   "name": "python",
   "nbconvert_exporter": "python",
   "pygments_lexer": "ipython3",
   "version": "3.8.12"
  },
  "orig_nbformat": 4
 },
 "nbformat": 4,
 "nbformat_minor": 2
}
