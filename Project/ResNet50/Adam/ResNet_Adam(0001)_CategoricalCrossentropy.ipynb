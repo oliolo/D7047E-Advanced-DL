{
 "cells": [
  {
   "cell_type": "code",
   "execution_count": 15,
   "metadata": {},
   "outputs": [],
   "source": [
    "import tensorflow as tf\n",
    "from tensorflow import keras\n",
    "import seaborn as sns\n",
    "from keras.preprocessing.image import ImageDataGenerator\n",
    "import matplotlib.pyplot as plt\n"
   ]
  },
  {
   "cell_type": "code",
   "execution_count": 16,
   "metadata": {},
   "outputs": [],
   "source": [
    "gen = ImageDataGenerator(rescale=1./255,validation_split = 0.2,zoom_range=(0.99,0.99),dtype=tf.float32)"
   ]
  },
  {
   "cell_type": "code",
   "execution_count": 17,
   "metadata": {},
   "outputs": [
    {
     "name": "stdout",
     "output_type": "stream",
     "text": [
      "Found 3681 images belonging to 2 classes.\n",
      "Found 919 images belonging to 2 classes.\n"
     ]
    }
   ],
   "source": [
    "train = gen.flow_from_directory(\"BrainTumor/Data/DataSet/\",\n",
    "                               target_size = (150,150),\n",
    "                               batch_size = 256,\n",
    "                               class_mode = \"binary\",\n",
    "                               color_mode = \"rgb\",\n",
    "                               shuffle = True,\n",
    "                               seed = 123,\n",
    "                               subset = \"training\")\n",
    "                \n",
    "val = gen.flow_from_directory(\"BrainTumor/Data/DataSet/\",\n",
    "                               target_size = (150,150),\n",
    "                               batch_size = 8,\n",
    "                               class_mode = \"binary\",\n",
    "                               color_mode = \"rgb\",\n",
    "                               shuffle = True,\n",
    "                               seed = 123,\n",
    "                               subset = \"validation\")\n",
    "classes = val.class_indices"
   ]
  },
  {
   "cell_type": "code",
   "execution_count": 18,
   "metadata": {},
   "outputs": [
    {
     "data": {
      "text/plain": [
       "{'BrainTumor': 0, 'Healthy': 1}"
      ]
     },
     "execution_count": 18,
     "metadata": {},
     "output_type": "execute_result"
    }
   ],
   "source": [
    "classes"
   ]
  },
  {
   "cell_type": "code",
   "execution_count": null,
   "metadata": {},
   "outputs": [],
   "source": [
    "t=0\n",
    "h=0\n",
    "for i in range(15):\n",
    "    a, b = next(train)\n",
    "    for j in b:\n",
    "        if j == 1:\n",
    "            h+=1\n",
    "        else:t+=1\n",
    "\n",
    "sns.barplot(x=['tumor','healty'],y=[t,h])\n",
    "import matplotlib.pyplot as plt\n",
    "batch = next(train)\n",
    "\n",
    "plt.imshow(batch[0][0])"
   ]
  },
  {
   "cell_type": "code",
   "execution_count": 19,
   "metadata": {},
   "outputs": [],
   "source": [
    "from keras.layers import Conv2D, MaxPool2D, LeakyReLU, BatchNormalization, Dropout, Dense, InputLayer, Flatten, Input\n",
    "from keras.losses import CategoricalCrossentropy\n",
    "from keras.optimizers import Adam\n",
    "from keras.applications.resnet50 import ResNet50\n",
    "from keras.models import Sequential\n",
    "from tensorflow.keras import layers"
   ]
  },
  {
   "cell_type": "code",
   "execution_count": 20,
   "metadata": {},
   "outputs": [
    {
     "name": "stdout",
     "output_type": "stream",
     "text": [
      "Model: \"sequential_1\"\n",
      "_________________________________________________________________\n",
      "Layer (type)                 Output Shape              Param #   \n",
      "=================================================================\n",
      "conv2d_2 (Conv2D)            (None, 150, 150, 32)      896       \n",
      "_________________________________________________________________\n",
      "max_pooling2d_2 (MaxPooling2 (None, 75, 75, 32)        0         \n",
      "_________________________________________________________________\n",
      "conv2d_3 (Conv2D)            (None, 75, 75, 64)        18496     \n",
      "_________________________________________________________________\n",
      "max_pooling2d_3 (MaxPooling2 (None, 37, 37, 64)        0         \n",
      "_________________________________________________________________\n",
      "flatten_1 (Flatten)          (None, 87616)             0         \n",
      "_________________________________________________________________\n",
      "dense_3 (Dense)              (None, 128)               11214976  \n",
      "_________________________________________________________________\n",
      "batch_normalization_2 (Batch (None, 128)               512       \n",
      "_________________________________________________________________\n",
      "dropout_2 (Dropout)          (None, 128)               0         \n",
      "_________________________________________________________________\n",
      "dense_4 (Dense)              (None, 64)                8256      \n",
      "_________________________________________________________________\n",
      "batch_normalization_3 (Batch (None, 64)                256       \n",
      "_________________________________________________________________\n",
      "dropout_3 (Dropout)          (None, 64)                0         \n",
      "_________________________________________________________________\n",
      "dense_5 (Dense)              (None, 1)                 65        \n",
      "=================================================================\n",
      "Total params: 11,243,457\n",
      "Trainable params: 11,243,073\n",
      "Non-trainable params: 384\n",
      "_________________________________________________________________\n"
     ]
    }
   ],
   "source": [
    "input_tensor = Input(shape=(100, 100, 3))  # this assumes K.image_data_format() == 'channels_last'\n",
    "\n",
    "resnet_model = ResNet50(input_tensor=input_tensor,weights='imagenet', include_top=False)\n",
    "\n",
    "for layer in resnet_model.layers:\n",
    "    layer.trainable=False\n",
    "\n",
    "resnet = Sequential()\n",
    "resnet.add(resnet_model)\n",
    "resnet.add(layers.Conv2D(32, kernel_size=(3,3), strides=(3,3), activation='relu', padding='same', input_shape=(100, 100, 1)))\n",
    "resnet.add(layers.ReLU())\n",
    "resnet.add(layers.MaxPooling2D(pool_size=(2,2)))\n",
    "resnet.add(layers.Flatten())\n",
    "resnet.add(layers.Dense(activation='relu', units=64))\n",
    "resnet.add(layers.Dropout(0.2))\n",
    "resnet.add(layers.Dense(activation='sigmoid', units=1))\n",
    "\n",
    "resnet.compile(optimizer=Adam(0.0001),loss = CategoricalCrossentropy(),metrics=['accuracy'])\n",
    "\n",
    "resnet.summary()"
   ]
  },
  {
   "cell_type": "code",
   "execution_count": 21,
   "metadata": {},
   "outputs": [],
   "source": [
    "from keras import utils, callbacks\n",
    "earlystopping = callbacks.EarlyStopping(monitor=\"val_loss\", mode=\"min\", \n",
    "                                        patience=5, restore_best_weights = True)"
   ]
  },
  {
   "cell_type": "code",
   "execution_count": 22,
   "metadata": {},
   "outputs": [
    {
     "name": "stdout",
     "output_type": "stream",
     "text": [
      "Epoch 1/20\n",
      "15/15 [==============================] - 37s 2s/step - loss: 5.4083e-08 - accuracy: 0.5020 - val_loss: 5.4092e-08 - val_accuracy: 0.4635\n",
      "Epoch 2/20\n",
      "15/15 [==============================] - 35s 2s/step - loss: 5.4083e-08 - accuracy: 0.5056 - val_loss: 5.4092e-08 - val_accuracy: 0.5321\n",
      "Epoch 3/20\n",
      "15/15 [==============================] - 35s 2s/step - loss: 5.4083e-08 - accuracy: 0.4947 - val_loss: 5.4092e-08 - val_accuracy: 0.5430\n",
      "Epoch 4/20\n",
      "15/15 [==============================] - 35s 2s/step - loss: 5.4083e-08 - accuracy: 0.4925 - val_loss: 5.4092e-08 - val_accuracy: 0.5452\n",
      "Epoch 5/20\n",
      "15/15 [==============================] - 35s 2s/step - loss: 5.4083e-08 - accuracy: 0.4876 - val_loss: 5.4092e-08 - val_accuracy: 0.5452\n",
      "Epoch 6/20\n",
      "15/15 [==============================] - 35s 2s/step - loss: 5.4083e-08 - accuracy: 0.5053 - val_loss: 5.4092e-08 - val_accuracy: 0.5462\n"
     ]
    }
   ],
   "source": [
    "history = resnet.fit(train,verbose=1,callbacks = [earlystopping],epochs=20,validation_data=(val))"
   ]
  },
  {
   "cell_type": "code",
   "execution_count": 23,
   "metadata": {},
   "outputs": [
    {
     "data": {
      "text/plain": [
       "<matplotlib.legend.Legend at 0x1ed367edbe0>"
      ]
     },
     "execution_count": 23,
     "metadata": {},
     "output_type": "execute_result"
    },
    {
     "data": {
      "image/png": "[encoded data removed]",
      "text/plain": [
       "<Figure size 432x288 with 1 Axes>"
      ]
     },
     "metadata": {
      "needs_background": "light"
     },
     "output_type": "display_data"
    }
   ],
   "source": [
    "plt.plot(history.history['accuracy'], label='accuracy')\n",
    "plt.plot(history.history['val_accuracy'], label = 'val_accuracy')\n",
    "plt.xlabel('Epoch')\n",
    "plt.ylabel('Accuracy')\n",
    "plt.ylim([0, 1])\n",
    "plt.legend(loc='lower right')\n"
   ]
  },
  {
   "cell_type": "code",
   "execution_count": 24,
   "metadata": {},
   "outputs": [
    {
     "data": {
      "text/plain": [
       "<matplotlib.legend.Legend at 0x1ed368891f0>"
      ]
     },
     "execution_count": 24,
     "metadata": {},
     "output_type": "execute_result"
    },
    {
     "data": {
      "image/png": "[encoded data removed]",
      "text/plain": [
       "<Figure size 432x288 with 1 Axes>"
      ]
     },
     "metadata": {
      "needs_background": "light"
     },
     "output_type": "display_data"
    }
   ],
   "source": [
    "\n",
    "plt.plot(history.history['loss'], label='loss')\n",
    "plt.plot(history.history['val_loss'], label = 'val_loss')\n",
    "plt.xlabel('Epoch')\n",
    "plt.ylabel('Loss')\n",
    "plt.ylim([0, 1])\n",
    "plt.legend(loc='lower right')"
   ]
  },
  {
   "cell_type": "code",
   "execution_count": 25,
   "metadata": {},
   "outputs": [
    {
     "name": "stdout",
     "output_type": "stream",
     "text": [
      "Found 245 images belonging to 2 classes.\n"
     ]
    }
   ],
   "source": [
    "gen = ImageDataGenerator(rescale=1./255,zoom_range=(0.99,0.99),dtype=tf.float32)\n",
    "test = gen.flow_from_directory(\"Test/DataSet/\",\n",
    "                               target_size = (150,150),\n",
    "                               batch_size = 256,\n",
    "                               class_mode = \"binary\",\n",
    "                               color_mode = \"rgb\",\n",
    "                               shuffle = True,\n",
    "                               seed = 123,\n",
    "                               subset = \"training\")\n",
    "\n",
    "classes = val.class_indices"
   ]
  },
  {
   "cell_type": "code",
   "execution_count": 26,
   "metadata": {},
   "outputs": [
    {
     "name": "stdout",
     "output_type": "stream",
     "text": [
      "1/1 [==============================] - 0s 998us/step - loss: 4.4278e-08 - accuracy: 0.5265\n"
     ]
    }
   ],
   "source": [
    "_, acc  = resnet.evaluate(test, verbose=1)"
   ]
  }
 ],
 "metadata": {
  "interpreter": {
   "hash": "3cfed8f4bd0e814654ad1dca51067e02fd2dab1d376893eda94b3cf16c5ff5e9"
  },
  "kernelspec": {
   "display_name": "Python 3.8.12 ('anaconda_backup')",
   "language": "python",
   "name": "python3"
  },
  "language_info": {
   "codemirror_mode": {
    "name": "ipython",
    "version": 3
   },
   "file_extension": ".py",
   "mimetype": "text/x-python",
   "name": "python",
   "nbconvert_exporter": "python",
   "pygments_lexer": "ipython3",
   "version": "3.8.12"
  },
  "orig_nbformat": 4
 },
 "nbformat": 4,
 "nbformat_minor": 2
}
