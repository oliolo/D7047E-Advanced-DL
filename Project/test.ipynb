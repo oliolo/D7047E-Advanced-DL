{
 "cells": [
  {
   "cell_type": "code",
   "execution_count": 1,
   "metadata": {},
   "outputs": [],
   "source": [
    "import tensorflow as tf\n",
    "from tensorflow import keras\n",
    "from keras.preprocessing.image import ImageDataGenerator"
   ]
  },
  {
   "cell_type": "code",
   "execution_count": 2,
   "metadata": {},
   "outputs": [],
   "source": [
    "gen = ImageDataGenerator(rescale=1./255,validation_split = 0.2,zoom_range=(0.99,0.99),dtype=tf.float32)"
   ]
  },
  {
   "cell_type": "code",
   "execution_count": 3,
   "metadata": {},
   "outputs": [
    {
     "name": "stdout",
     "output_type": "stream",
     "text": [
      "Found 3681 images belonging to 2 classes.\n"
     ]
    }
   ],
   "source": [
    "train = gen.flow_from_directory(\"BrainTumor/Data/DataSet/\",\n",
    "                               target_size = (150,150),\n",
    "                               batch_size = 256,\n",
    "                               class_mode = \"binary\",\n",
    "                               color_mode = \"rgb\",\n",
    "                               shuffle = True,\n",
    "                               seed = 123,\n",
    "                               subset = \"training\")\n",
    "                \n",
    "val = gen.flow_from_directory(\"BrainTumor/Data/DataSet/\",\n",
    "                               target_size = (150,150),\n",
    "                               batch_size = 8,\n",
    "                               class_mode = \"binary\",\n",
    "                               color_mode = \"rgb\",\n",
    "                               shuffle = True,\n",
    "                               seed = 123,\n",
    "                               subset = \"validation\")\n",
    "classes = val.class_indices"
   ]
  },
  {
   "cell_type": "code",
   "execution_count": 4,
   "metadata": {},
   "outputs": [
    {
     "name": "stdout",
     "output_type": "stream",
     "text": [
      "Found 919 images belonging to 2 classes.\n"
     ]
    }
   ],
   "source": []
  }
 ],
 "metadata": {
  "interpreter": {
   "hash": "3cfed8f4bd0e814654ad1dca51067e02fd2dab1d376893eda94b3cf16c5ff5e9"
  },
  "kernelspec": {
   "display_name": "Python 3.8.12 ('anaconda_backup')",
   "language": "python",
   "name": "python3"
  },
  "language_info": {
   "codemirror_mode": {
    "name": "ipython",
    "version": 3
   },
   "file_extension": ".py",
   "mimetype": "text/x-python",
   "name": "python",
   "nbconvert_exporter": "python",
   "pygments_lexer": "ipython3",
   "version": "3.8.12"
  },
  "orig_nbformat": 4
 },
 "nbformat": 4,
 "nbformat_minor": 2
}
